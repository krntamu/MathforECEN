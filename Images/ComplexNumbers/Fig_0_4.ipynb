{
 "cells": [
  {
   "cell_type": "code",
   "execution_count": 13,
   "metadata": {},
   "outputs": [],
   "source": [
    "import numpy as np\n",
    "import matplotlib.pyplot as plt\n",
    "import pandas"
   ]
  },
  {
   "cell_type": "code",
   "execution_count": 14,
   "metadata": {},
   "outputs": [],
   "source": [
    "t = np.arange(0,5,0.02)\n",
    "phase = np.mod(2*np.pi*t,2*np.pi)\n",
    "phase[phase > np.pi] = phase[phase > np.pi] - 2*np.pi\n",
    "results = np.zeros((t.shape[0],2))\n",
    "results[:,0] = t.T\n",
    "results[:,1] = phase.T\n",
    "df = pandas.DataFrame(results)\n",
    "df.to_csv('Data_0_4.csv', header=False, index=False)\n",
    "#for indx in np.arange(results.shape[0]):\n",
    "#    print(\"(\"+str(results[indx,0])+\",\"+str(results[indx,1])+\")\")"
   ]
  },
  {
   "cell_type": "code",
   "execution_count": null,
   "metadata": {},
   "outputs": [],
   "source": []
  }
 ],
 "metadata": {
  "kernelspec": {
   "display_name": "Python 3",
   "language": "python",
   "name": "python3"
  },
  "language_info": {
   "codemirror_mode": {
    "name": "ipython",
    "version": 3
   },
   "file_extension": ".py",
   "mimetype": "text/x-python",
   "name": "python",
   "nbconvert_exporter": "python",
   "pygments_lexer": "ipython3",
   "version": "3.6.5"
  }
 },
 "nbformat": 4,
 "nbformat_minor": 2
}
